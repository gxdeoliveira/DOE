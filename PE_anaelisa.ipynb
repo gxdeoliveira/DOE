{
 "cells": [
  {
   "cell_type": "code",
   "execution_count": 4,
   "id": "692d4f4c-1707-4663-a484-70ac3b295584",
   "metadata": {},
   "outputs": [],
   "source": [
    "from IPython.display import display, Image, HTML\n",
    "import pandas as pd\n",
    "import numpy as np"
   ]
  },
  {
   "cell_type": "code",
   "execution_count": 6,
   "id": "a99da1c6-c58b-475a-ad55-1f2b88b1792d",
   "metadata": {},
   "outputs": [
    {
     "data": {
      "text/html": [
       "\n",
       "<div style=\"display: flex; align-items: center;\">\n",
       "    <img src='https://raw.githubusercontent.com/gxdeoliveira/DOE/main/microcarrier.png' width='600' style='margin-right: 20px;'>\n",
       "    <h1 style='font-size: 20px;'>\n",
       "        PE25JB007 - Adaptação de Linhagens Celulares Bovinas Imortalizadas para Cultivo em Suspensão com Microcarreadores em Spinner Flasks\n",
       "    </h1>\n",
       "</div>\n"
      ],
      "text/plain": [
       "<IPython.core.display.HTML object>"
      ]
     },
     "metadata": {},
     "output_type": "display_data"
    }
   ],
   "source": [
    "html = \"\"\"\n",
    "<div style=\"display: flex; align-items: center;\">\n",
    "    <img src='https://raw.githubusercontent.com/gxdeoliveira/DOE/main/microcarrier.png' width='600' style='margin-right: 20px;'>\n",
    "    <h1 style='font-size: 20px;'>\n",
    "        PE25JB007 - Adaptação de Linhagens Celulares Bovinas Imortalizadas para Cultivo em Suspensão com Microcarreadores em Spinner Flasks\n",
    "    </h1>\n",
    "</div>\n",
    "\"\"\"\n",
    "display(HTML(html))"
   ]
  },
  {
   "cell_type": "markdown",
   "id": "433c3d3e-4618-4f75-8d6f-651b9de75924",
   "metadata": {},
   "source": [
    "# DOE DCC\n",
    "\n",
    "Esse notebook contém o delineamento experimental para o plano de estudo de adaptação a supensão de células animais em microcarreadores."
   ]
  },
  {
   "cell_type": "markdown",
   "id": "3cb1b620-29db-464b-bc31-685d1842e7c4",
   "metadata": {},
   "source": [
    "### Esse DOE é organizado de tal modo:\n",
    "\n",
    "1. <a href='#number_1'> Definição Teórica </a>\n",
    "2. <a href='#number_2'> Variáveis escolhidas </a>\n",
    "3. <a href='#number_3'> Delineamento Experimental </a>\n",
    "4. <a href='#number_4'> Análise Estatística preliminar </a>"
   ]
  },
  {
   "attachments": {},
   "cell_type": "markdown",
   "id": "742b4d67-c76f-4e45-9463-72cbcacc44bc",
   "metadata": {},
   "source": [
    "<a id='number_1'></a>\n",
    "### 1. Definição Teórica\n",
    "   \n",
    "O Design of Experiments (DOE) é uma metodologia estatística usada para planejar, realizar e analisar experimentos de forma eficiente, identificando as variáveis que mais influenciam os resultados. Serve para otimizar processos, entender interações entre variáveis e reduzir custos ao evitar experimentos desnecessários.\n",
    "\n",
    "O **DCC** (Delineamento de Composto Central Rotacional) é uma técnica dentro do DOE usada para estudar a influência de várias variáveis (fatores) sobre um determinado resultado. Ele é composto por pontos experimentais que exploram diferentes combinações de níveis de fatores em um experimento.\n",
    "\n",
    "Como funciona:\n",
    "\n",
    "**Fatores:** São as variáveis ou condições que você quer estudar. No caso da adaptação de células, por exemplo, fatores podem ser a temperatura, a concentração de nutrientes ou o tipo de microcarreador.\n",
    "\n",
    "**Níveis:** São os valores que cada fator pode assumir. Por exemplo, a temperatura pode ter os níveis \"baixa\" e \"alta\", ou a concentração de nutrientes pode ter níveis de 1%, 2%, e 3%.\n",
    "\n",
    "**Ponto central:** No DCCR, existem pontos centrais que são uma combinação dos valores médios de todos os fatores. Eles ajudam a verificar se a resposta do experimento é linear ou se há interações não lineares.\n",
    "\n",
    "**Pontos axiais:** São pontos experimentais que estão localizados fora da região central do experimento. Eles são usados para explorar a região do espaço de experimentação além dos níveis mais extremos. Esses pontos ajudam a detectar se há curvatura ou interações mais complexas entre os fatores.\n",
    "\n",
    "O DCC é classificado conforme os níveis e fatores: N^k."
   ]
  },
  {
   "cell_type": "markdown",
   "id": "cc0254d1-1ff6-4eec-8061-01a5d14bd5f0",
   "metadata": {},
   "source": [
    "<a id='number_2'></a>\n",
    "### 2. Variáveis escolhidas\n",
    "   "
   ]
  },
  {
   "cell_type": "code",
   "execution_count": 1,
   "id": "e20027ce-4af6-4365-9863-c6a7f57d30c6",
   "metadata": {},
   "outputs": [
    {
     "data": {
      "text/html": [
       "<div>\n",
       "<style scoped>\n",
       "    .dataframe tbody tr th:only-of-type {\n",
       "        vertical-align: middle;\n",
       "    }\n",
       "\n",
       "    .dataframe tbody tr th {\n",
       "        vertical-align: top;\n",
       "    }\n",
       "\n",
       "    .dataframe thead th {\n",
       "        text-align: right;\n",
       "    }\n",
       "</style>\n",
       "<table border=\"1\" class=\"dataframe\">\n",
       "  <thead>\n",
       "    <tr style=\"text-align: right;\">\n",
       "      <th></th>\n",
       "      <th>Variáveis Independentes (fatores k)</th>\n",
       "      <th>Níveis</th>\n",
       "    </tr>\n",
       "  </thead>\n",
       "  <tbody>\n",
       "    <tr>\n",
       "      <th>0</th>\n",
       "      <td>Regime de troca de meio (%)</td>\n",
       "      <td>80%, 50%</td>\n",
       "    </tr>\n",
       "    <tr>\n",
       "      <th>1</th>\n",
       "      <td>Velocidade de Agitação (rpm)</td>\n",
       "      <td>30 rpm, 50 rpm</td>\n",
       "    </tr>\n",
       "    <tr>\n",
       "      <th>2</th>\n",
       "      <td>Volume (mL)</td>\n",
       "      <td>80 mL, 125 mL</td>\n",
       "    </tr>\n",
       "  </tbody>\n",
       "</table>\n",
       "</div>"
      ],
      "text/plain": [
       "  Variáveis Independentes (fatores k)          Níveis\n",
       "0         Regime de troca de meio (%)        80%, 50%\n",
       "1        Velocidade de Agitação (rpm)  30 rpm, 50 rpm\n",
       "2                         Volume (mL)   80 mL, 125 mL"
      ]
     },
     "metadata": {},
     "output_type": "display_data"
    }
   ],
   "source": [
    "import pandas as pd\n",
    "\n",
    "# Criando o DataFrame\n",
    "dados = {\n",
    "    \"Variáveis Independentes (fatores k)\": [\n",
    "        \"Regime de troca de meio (%)\",\n",
    "        \"Velocidade de Agitação (rpm)\",\n",
    "        \"Volume (mL)\"\n",
    "    ],\n",
    "    \"Níveis\": [\n",
    "        \"80%, 50%\",\n",
    "        \"30 rpm, 50 rpm\",\n",
    "        \"80 mL, 125 mL\"\n",
    "    ]\n",
    "}\n",
    "\n",
    "df = pd.DataFrame(dados)\n",
    "\n",
    "# Exibir a tabela no Jupyter\n",
    "display(df)\n"
   ]
  },
  {
   "cell_type": "code",
   "execution_count": 5,
   "id": "8019d45f-eba6-4f65-bc9e-9c76cea63618",
   "metadata": {},
   "outputs": [
    {
     "data": {
      "text/latex": [
       "$\\displaystyle \\textbf{Número de experimentos:} \\quad N^k = 2^3$"
      ],
      "text/plain": [
       "<IPython.core.display.Math object>"
      ]
     },
     "metadata": {},
     "output_type": "display_data"
    },
    {
     "data": {
      "text/latex": [
       "$\\displaystyle \\textbf{Fator axial:} \\quad \\alpha = (2^k)^{1/4}$"
      ],
      "text/plain": [
       "<IPython.core.display.Math object>"
      ]
     },
     "metadata": {},
     "output_type": "display_data"
    },
    {
     "data": {
      "text/latex": [
       "$\\displaystyle \\textbf{Variação de X:} \\quad \\Delta X = \\frac{X_{\\text{máx}} - X_{\\text{min}}}{2}$"
      ],
      "text/plain": [
       "<IPython.core.display.Math object>"
      ]
     },
     "metadata": {},
     "output_type": "display_data"
    },
    {
     "data": {
      "text/latex": [
       "$\\displaystyle \\textbf{Pontos axiais:} \\quad X_{\\text{axial}} = X_c \\pm (\\alpha \\times \\Delta X)$"
      ],
      "text/plain": [
       "<IPython.core.display.Math object>"
      ]
     },
     "metadata": {},
     "output_type": "display_data"
    },
    {
     "data": {
      "text/latex": [
       "$\\displaystyle \\textbf{Ponto central:} \\quad X_c = \\frac{(X_{\\text{máx}} + X_{\\text{min}})}{2}$"
      ],
      "text/plain": [
       "<IPython.core.display.Math object>"
      ]
     },
     "metadata": {},
     "output_type": "display_data"
    }
   ],
   "source": [
    "from IPython.display import display, Math\n",
    "\n",
    "eq1 = r\"\\textbf{Número de experimentos:} \\quad N^k = 2^3\"\n",
    "eq2 = r\"\\textbf{Fator axial:} \\quad \\alpha = (2^k)^{1/4}\"\n",
    "eq3 = r\"\\textbf{Variação de X:} \\quad \\Delta X = \\frac{X_{\\text{máx}} - X_{\\text{min}}}{2}\"\n",
    "eq4 = r\"\\textbf{Pontos axiais:} \\quad X_{\\text{axial}} = X_c \\pm (\\alpha \\times \\Delta X)\"\n",
    "eq5 = r\"\\textbf{Ponto central:} \\quad X_c = \\frac{(X_{\\text{máx}} + X_{\\text{min}})}{2}\"\n",
    "\n",
    "display(Math(eq1))\n",
    "display(Math(eq2))\n",
    "display(Math(eq3))\n",
    "display(Math(eq4))\n",
    "display(Math(eq5))"
   ]
  },
  {
   "cell_type": "code",
   "execution_count": 3,
   "id": "f730fc2a-d7b1-4347-a24a-2a32f0d1ea2f",
   "metadata": {},
   "outputs": [
    {
     "data": {
      "text/html": [
       "<style type=\"text/css\">\n",
       "</style>\n",
       "<table id=\"T_029a6\">\n",
       "  <caption>Tabela de Planejamento - Níveis Codificados</caption>\n",
       "  <thead>\n",
       "    <tr>\n",
       "      <th class=\"blank level0\" >&nbsp;</th>\n",
       "      <th id=\"T_029a6_level0_col0\" class=\"col_heading level0 col0\" >Regime de troca de meio (%)</th>\n",
       "      <th id=\"T_029a6_level0_col1\" class=\"col_heading level0 col1\" >Velocidade de Agitação (rpm)</th>\n",
       "      <th id=\"T_029a6_level0_col2\" class=\"col_heading level0 col2\" >Volume (mL)</th>\n",
       "    </tr>\n",
       "  </thead>\n",
       "  <tbody>\n",
       "    <tr>\n",
       "      <th id=\"T_029a6_level0_row0\" class=\"row_heading level0 row0\" >0</th>\n",
       "      <td id=\"T_029a6_row0_col0\" class=\"data row0 col0\" >-1.00</td>\n",
       "      <td id=\"T_029a6_row0_col1\" class=\"data row0 col1\" >-1.00</td>\n",
       "      <td id=\"T_029a6_row0_col2\" class=\"data row0 col2\" >-1.00</td>\n",
       "    </tr>\n",
       "    <tr>\n",
       "      <th id=\"T_029a6_level0_row1\" class=\"row_heading level0 row1\" >1</th>\n",
       "      <td id=\"T_029a6_row1_col0\" class=\"data row1 col0\" >1.00</td>\n",
       "      <td id=\"T_029a6_row1_col1\" class=\"data row1 col1\" >-1.00</td>\n",
       "      <td id=\"T_029a6_row1_col2\" class=\"data row1 col2\" >-1.00</td>\n",
       "    </tr>\n",
       "    <tr>\n",
       "      <th id=\"T_029a6_level0_row2\" class=\"row_heading level0 row2\" >2</th>\n",
       "      <td id=\"T_029a6_row2_col0\" class=\"data row2 col0\" >-1.00</td>\n",
       "      <td id=\"T_029a6_row2_col1\" class=\"data row2 col1\" >1.00</td>\n",
       "      <td id=\"T_029a6_row2_col2\" class=\"data row2 col2\" >-1.00</td>\n",
       "    </tr>\n",
       "    <tr>\n",
       "      <th id=\"T_029a6_level0_row3\" class=\"row_heading level0 row3\" >3</th>\n",
       "      <td id=\"T_029a6_row3_col0\" class=\"data row3 col0\" >1.00</td>\n",
       "      <td id=\"T_029a6_row3_col1\" class=\"data row3 col1\" >1.00</td>\n",
       "      <td id=\"T_029a6_row3_col2\" class=\"data row3 col2\" >-1.00</td>\n",
       "    </tr>\n",
       "    <tr>\n",
       "      <th id=\"T_029a6_level0_row4\" class=\"row_heading level0 row4\" >4</th>\n",
       "      <td id=\"T_029a6_row4_col0\" class=\"data row4 col0\" >-1.00</td>\n",
       "      <td id=\"T_029a6_row4_col1\" class=\"data row4 col1\" >-1.00</td>\n",
       "      <td id=\"T_029a6_row4_col2\" class=\"data row4 col2\" >1.00</td>\n",
       "    </tr>\n",
       "    <tr>\n",
       "      <th id=\"T_029a6_level0_row5\" class=\"row_heading level0 row5\" >5</th>\n",
       "      <td id=\"T_029a6_row5_col0\" class=\"data row5 col0\" >1.00</td>\n",
       "      <td id=\"T_029a6_row5_col1\" class=\"data row5 col1\" >-1.00</td>\n",
       "      <td id=\"T_029a6_row5_col2\" class=\"data row5 col2\" >1.00</td>\n",
       "    </tr>\n",
       "    <tr>\n",
       "      <th id=\"T_029a6_level0_row6\" class=\"row_heading level0 row6\" >6</th>\n",
       "      <td id=\"T_029a6_row6_col0\" class=\"data row6 col0\" >-1.00</td>\n",
       "      <td id=\"T_029a6_row6_col1\" class=\"data row6 col1\" >1.00</td>\n",
       "      <td id=\"T_029a6_row6_col2\" class=\"data row6 col2\" >1.00</td>\n",
       "    </tr>\n",
       "    <tr>\n",
       "      <th id=\"T_029a6_level0_row7\" class=\"row_heading level0 row7\" >7</th>\n",
       "      <td id=\"T_029a6_row7_col0\" class=\"data row7 col0\" >1.00</td>\n",
       "      <td id=\"T_029a6_row7_col1\" class=\"data row7 col1\" >1.00</td>\n",
       "      <td id=\"T_029a6_row7_col2\" class=\"data row7 col2\" >1.00</td>\n",
       "    </tr>\n",
       "    <tr>\n",
       "      <th id=\"T_029a6_level0_row8\" class=\"row_heading level0 row8\" >8</th>\n",
       "      <td id=\"T_029a6_row8_col0\" class=\"data row8 col0\" >1.68</td>\n",
       "      <td id=\"T_029a6_row8_col1\" class=\"data row8 col1\" >0.00</td>\n",
       "      <td id=\"T_029a6_row8_col2\" class=\"data row8 col2\" >0.00</td>\n",
       "    </tr>\n",
       "    <tr>\n",
       "      <th id=\"T_029a6_level0_row9\" class=\"row_heading level0 row9\" >9</th>\n",
       "      <td id=\"T_029a6_row9_col0\" class=\"data row9 col0\" >0.00</td>\n",
       "      <td id=\"T_029a6_row9_col1\" class=\"data row9 col1\" >1.68</td>\n",
       "      <td id=\"T_029a6_row9_col2\" class=\"data row9 col2\" >0.00</td>\n",
       "    </tr>\n",
       "    <tr>\n",
       "      <th id=\"T_029a6_level0_row10\" class=\"row_heading level0 row10\" >10</th>\n",
       "      <td id=\"T_029a6_row10_col0\" class=\"data row10 col0\" >0.00</td>\n",
       "      <td id=\"T_029a6_row10_col1\" class=\"data row10 col1\" >0.00</td>\n",
       "      <td id=\"T_029a6_row10_col2\" class=\"data row10 col2\" >1.68</td>\n",
       "    </tr>\n",
       "    <tr>\n",
       "      <th id=\"T_029a6_level0_row11\" class=\"row_heading level0 row11\" >11</th>\n",
       "      <td id=\"T_029a6_row11_col0\" class=\"data row11 col0\" >-1.68</td>\n",
       "      <td id=\"T_029a6_row11_col1\" class=\"data row11 col1\" >0.00</td>\n",
       "      <td id=\"T_029a6_row11_col2\" class=\"data row11 col2\" >0.00</td>\n",
       "    </tr>\n",
       "    <tr>\n",
       "      <th id=\"T_029a6_level0_row12\" class=\"row_heading level0 row12\" >12</th>\n",
       "      <td id=\"T_029a6_row12_col0\" class=\"data row12 col0\" >0.00</td>\n",
       "      <td id=\"T_029a6_row12_col1\" class=\"data row12 col1\" >-1.68</td>\n",
       "      <td id=\"T_029a6_row12_col2\" class=\"data row12 col2\" >0.00</td>\n",
       "    </tr>\n",
       "    <tr>\n",
       "      <th id=\"T_029a6_level0_row13\" class=\"row_heading level0 row13\" >13</th>\n",
       "      <td id=\"T_029a6_row13_col0\" class=\"data row13 col0\" >0.00</td>\n",
       "      <td id=\"T_029a6_row13_col1\" class=\"data row13 col1\" >0.00</td>\n",
       "      <td id=\"T_029a6_row13_col2\" class=\"data row13 col2\" >-1.68</td>\n",
       "    </tr>\n",
       "    <tr>\n",
       "      <th id=\"T_029a6_level0_row14\" class=\"row_heading level0 row14\" >14</th>\n",
       "      <td id=\"T_029a6_row14_col0\" class=\"data row14 col0\" >0.00</td>\n",
       "      <td id=\"T_029a6_row14_col1\" class=\"data row14 col1\" >0.00</td>\n",
       "      <td id=\"T_029a6_row14_col2\" class=\"data row14 col2\" >0.00</td>\n",
       "    </tr>\n",
       "    <tr>\n",
       "      <th id=\"T_029a6_level0_row15\" class=\"row_heading level0 row15\" >15</th>\n",
       "      <td id=\"T_029a6_row15_col0\" class=\"data row15 col0\" >0.00</td>\n",
       "      <td id=\"T_029a6_row15_col1\" class=\"data row15 col1\" >0.00</td>\n",
       "      <td id=\"T_029a6_row15_col2\" class=\"data row15 col2\" >0.00</td>\n",
       "    </tr>\n",
       "    <tr>\n",
       "      <th id=\"T_029a6_level0_row16\" class=\"row_heading level0 row16\" >16</th>\n",
       "      <td id=\"T_029a6_row16_col0\" class=\"data row16 col0\" >0.00</td>\n",
       "      <td id=\"T_029a6_row16_col1\" class=\"data row16 col1\" >0.00</td>\n",
       "      <td id=\"T_029a6_row16_col2\" class=\"data row16 col2\" >0.00</td>\n",
       "    </tr>\n",
       "  </tbody>\n",
       "</table>\n"
      ],
      "text/plain": [
       "<pandas.io.formats.style.Styler at 0x1f69885d3d0>"
      ]
     },
     "metadata": {},
     "output_type": "display_data"
    }
   ],
   "source": [
    "# Definindo os fatores e seus níveis reais\n",
    "fatores = {\n",
    "    'Regime de troca de meio (%)': [50, 80],\n",
    "    'Velocidade de Agitação (rpm)': [30, 50],\n",
    "    'Volume (mL)': [80, 110]\n",
    "}\n",
    "\n",
    "# Cálculo dos pontos axiais\n",
    "alpha = round((2**3)**(1/4), 2)\n",
    "centro = {key: round(np.mean(val), 2) for key, val in fatores.items()}\n",
    "delta = {key: round((max(val) - min(val)) / 2, 2) for key, val in fatores.items()}\n",
    "\n",
    "# Matriz de planejamento codificada\n",
    "pontos_fatoriais = [\n",
    "    [-1, -1, -1], [1, -1, -1], [-1, 1, -1], [1, 1, -1],\n",
    "    [-1, -1, 1], [1, -1, 1], [-1, 1, 1], [1, 1, 1]\n",
    "]\n",
    "pontos_axiais = [[alpha if i == j else 0 for j in range(3)] for i in range(3)] + \\\n",
    "                [[-alpha if i == j else 0 for j in range(3)] for i in range(3)]\n",
    "pontos_centrais = [[0, 0, 0]] * 3\n",
    "\n",
    "# Junta todos os pontos\n",
    "matriz_codificada = pontos_fatoriais + pontos_axiais + pontos_centrais\n",
    "\n",
    "# Converte para valores reais com 2 casas decimais\n",
    "matriz_real = [\n",
    "    [round(centro[key] + delta[key] * valor, 2) for key, valor in zip(fatores.keys(), linha)]\n",
    "    for linha in matriz_codificada\n",
    "]\n",
    "\n",
    "# Criar DataFrame com os pontos codificados e reais\n",
    "df_codificado = pd.DataFrame(matriz_codificada, columns=fatores.keys())\n",
    "df_real = pd.DataFrame(matriz_real, columns=fatores.keys())\n",
    "\n",
    "# Forçar o arredondamento diretamente no DataFrame\n",
    "df_codificado = df_codificado.round(2)\n",
    "df_real = df_real.round(2)\n",
    "\n",
    "# Exibindo as tabelas com 2 casas decimais\n",
    "display(df_codificado.style.set_caption(\"Tabela de Planejamento - Níveis Codificados\").format(\"{:.2f}\"))"
   ]
  },
  {
   "cell_type": "code",
   "execution_count": 4,
   "id": "1ba6e302-b50e-4186-8609-2802e95c0a5b",
   "metadata": {},
   "outputs": [
    {
     "data": {
      "text/html": [
       "<style type=\"text/css\">\n",
       "</style>\n",
       "<table id=\"T_3f2ca\">\n",
       "  <caption>Tabela de Planejamento - Valores Reais</caption>\n",
       "  <thead>\n",
       "    <tr>\n",
       "      <th class=\"blank level0\" >&nbsp;</th>\n",
       "      <th id=\"T_3f2ca_level0_col0\" class=\"col_heading level0 col0\" >Regime de troca de meio (%)</th>\n",
       "      <th id=\"T_3f2ca_level0_col1\" class=\"col_heading level0 col1\" >Velocidade de Agitação (rpm)</th>\n",
       "      <th id=\"T_3f2ca_level0_col2\" class=\"col_heading level0 col2\" >Volume (mL)</th>\n",
       "    </tr>\n",
       "  </thead>\n",
       "  <tbody>\n",
       "    <tr>\n",
       "      <th id=\"T_3f2ca_level0_row0\" class=\"row_heading level0 row0\" >0</th>\n",
       "      <td id=\"T_3f2ca_row0_col0\" class=\"data row0 col0\" >50.00</td>\n",
       "      <td id=\"T_3f2ca_row0_col1\" class=\"data row0 col1\" >30.00</td>\n",
       "      <td id=\"T_3f2ca_row0_col2\" class=\"data row0 col2\" >80.00</td>\n",
       "    </tr>\n",
       "    <tr>\n",
       "      <th id=\"T_3f2ca_level0_row1\" class=\"row_heading level0 row1\" >1</th>\n",
       "      <td id=\"T_3f2ca_row1_col0\" class=\"data row1 col0\" >80.00</td>\n",
       "      <td id=\"T_3f2ca_row1_col1\" class=\"data row1 col1\" >30.00</td>\n",
       "      <td id=\"T_3f2ca_row1_col2\" class=\"data row1 col2\" >80.00</td>\n",
       "    </tr>\n",
       "    <tr>\n",
       "      <th id=\"T_3f2ca_level0_row2\" class=\"row_heading level0 row2\" >2</th>\n",
       "      <td id=\"T_3f2ca_row2_col0\" class=\"data row2 col0\" >50.00</td>\n",
       "      <td id=\"T_3f2ca_row2_col1\" class=\"data row2 col1\" >50.00</td>\n",
       "      <td id=\"T_3f2ca_row2_col2\" class=\"data row2 col2\" >80.00</td>\n",
       "    </tr>\n",
       "    <tr>\n",
       "      <th id=\"T_3f2ca_level0_row3\" class=\"row_heading level0 row3\" >3</th>\n",
       "      <td id=\"T_3f2ca_row3_col0\" class=\"data row3 col0\" >80.00</td>\n",
       "      <td id=\"T_3f2ca_row3_col1\" class=\"data row3 col1\" >50.00</td>\n",
       "      <td id=\"T_3f2ca_row3_col2\" class=\"data row3 col2\" >80.00</td>\n",
       "    </tr>\n",
       "    <tr>\n",
       "      <th id=\"T_3f2ca_level0_row4\" class=\"row_heading level0 row4\" >4</th>\n",
       "      <td id=\"T_3f2ca_row4_col0\" class=\"data row4 col0\" >50.00</td>\n",
       "      <td id=\"T_3f2ca_row4_col1\" class=\"data row4 col1\" >30.00</td>\n",
       "      <td id=\"T_3f2ca_row4_col2\" class=\"data row4 col2\" >110.00</td>\n",
       "    </tr>\n",
       "    <tr>\n",
       "      <th id=\"T_3f2ca_level0_row5\" class=\"row_heading level0 row5\" >5</th>\n",
       "      <td id=\"T_3f2ca_row5_col0\" class=\"data row5 col0\" >80.00</td>\n",
       "      <td id=\"T_3f2ca_row5_col1\" class=\"data row5 col1\" >30.00</td>\n",
       "      <td id=\"T_3f2ca_row5_col2\" class=\"data row5 col2\" >110.00</td>\n",
       "    </tr>\n",
       "    <tr>\n",
       "      <th id=\"T_3f2ca_level0_row6\" class=\"row_heading level0 row6\" >6</th>\n",
       "      <td id=\"T_3f2ca_row6_col0\" class=\"data row6 col0\" >50.00</td>\n",
       "      <td id=\"T_3f2ca_row6_col1\" class=\"data row6 col1\" >50.00</td>\n",
       "      <td id=\"T_3f2ca_row6_col2\" class=\"data row6 col2\" >110.00</td>\n",
       "    </tr>\n",
       "    <tr>\n",
       "      <th id=\"T_3f2ca_level0_row7\" class=\"row_heading level0 row7\" >7</th>\n",
       "      <td id=\"T_3f2ca_row7_col0\" class=\"data row7 col0\" >80.00</td>\n",
       "      <td id=\"T_3f2ca_row7_col1\" class=\"data row7 col1\" >50.00</td>\n",
       "      <td id=\"T_3f2ca_row7_col2\" class=\"data row7 col2\" >110.00</td>\n",
       "    </tr>\n",
       "    <tr>\n",
       "      <th id=\"T_3f2ca_level0_row8\" class=\"row_heading level0 row8\" >8</th>\n",
       "      <td id=\"T_3f2ca_row8_col0\" class=\"data row8 col0\" >90.20</td>\n",
       "      <td id=\"T_3f2ca_row8_col1\" class=\"data row8 col1\" >40.00</td>\n",
       "      <td id=\"T_3f2ca_row8_col2\" class=\"data row8 col2\" >95.00</td>\n",
       "    </tr>\n",
       "    <tr>\n",
       "      <th id=\"T_3f2ca_level0_row9\" class=\"row_heading level0 row9\" >9</th>\n",
       "      <td id=\"T_3f2ca_row9_col0\" class=\"data row9 col0\" >65.00</td>\n",
       "      <td id=\"T_3f2ca_row9_col1\" class=\"data row9 col1\" >56.80</td>\n",
       "      <td id=\"T_3f2ca_row9_col2\" class=\"data row9 col2\" >95.00</td>\n",
       "    </tr>\n",
       "    <tr>\n",
       "      <th id=\"T_3f2ca_level0_row10\" class=\"row_heading level0 row10\" >10</th>\n",
       "      <td id=\"T_3f2ca_row10_col0\" class=\"data row10 col0\" >65.00</td>\n",
       "      <td id=\"T_3f2ca_row10_col1\" class=\"data row10 col1\" >40.00</td>\n",
       "      <td id=\"T_3f2ca_row10_col2\" class=\"data row10 col2\" >120.20</td>\n",
       "    </tr>\n",
       "    <tr>\n",
       "      <th id=\"T_3f2ca_level0_row11\" class=\"row_heading level0 row11\" >11</th>\n",
       "      <td id=\"T_3f2ca_row11_col0\" class=\"data row11 col0\" >39.80</td>\n",
       "      <td id=\"T_3f2ca_row11_col1\" class=\"data row11 col1\" >40.00</td>\n",
       "      <td id=\"T_3f2ca_row11_col2\" class=\"data row11 col2\" >95.00</td>\n",
       "    </tr>\n",
       "    <tr>\n",
       "      <th id=\"T_3f2ca_level0_row12\" class=\"row_heading level0 row12\" >12</th>\n",
       "      <td id=\"T_3f2ca_row12_col0\" class=\"data row12 col0\" >65.00</td>\n",
       "      <td id=\"T_3f2ca_row12_col1\" class=\"data row12 col1\" >23.20</td>\n",
       "      <td id=\"T_3f2ca_row12_col2\" class=\"data row12 col2\" >95.00</td>\n",
       "    </tr>\n",
       "    <tr>\n",
       "      <th id=\"T_3f2ca_level0_row13\" class=\"row_heading level0 row13\" >13</th>\n",
       "      <td id=\"T_3f2ca_row13_col0\" class=\"data row13 col0\" >65.00</td>\n",
       "      <td id=\"T_3f2ca_row13_col1\" class=\"data row13 col1\" >40.00</td>\n",
       "      <td id=\"T_3f2ca_row13_col2\" class=\"data row13 col2\" >69.80</td>\n",
       "    </tr>\n",
       "    <tr>\n",
       "      <th id=\"T_3f2ca_level0_row14\" class=\"row_heading level0 row14\" >14</th>\n",
       "      <td id=\"T_3f2ca_row14_col0\" class=\"data row14 col0\" >65.00</td>\n",
       "      <td id=\"T_3f2ca_row14_col1\" class=\"data row14 col1\" >40.00</td>\n",
       "      <td id=\"T_3f2ca_row14_col2\" class=\"data row14 col2\" >95.00</td>\n",
       "    </tr>\n",
       "    <tr>\n",
       "      <th id=\"T_3f2ca_level0_row15\" class=\"row_heading level0 row15\" >15</th>\n",
       "      <td id=\"T_3f2ca_row15_col0\" class=\"data row15 col0\" >65.00</td>\n",
       "      <td id=\"T_3f2ca_row15_col1\" class=\"data row15 col1\" >40.00</td>\n",
       "      <td id=\"T_3f2ca_row15_col2\" class=\"data row15 col2\" >95.00</td>\n",
       "    </tr>\n",
       "    <tr>\n",
       "      <th id=\"T_3f2ca_level0_row16\" class=\"row_heading level0 row16\" >16</th>\n",
       "      <td id=\"T_3f2ca_row16_col0\" class=\"data row16 col0\" >65.00</td>\n",
       "      <td id=\"T_3f2ca_row16_col1\" class=\"data row16 col1\" >40.00</td>\n",
       "      <td id=\"T_3f2ca_row16_col2\" class=\"data row16 col2\" >95.00</td>\n",
       "    </tr>\n",
       "  </tbody>\n",
       "</table>\n"
      ],
      "text/plain": [
       "<pandas.io.formats.style.Styler at 0x1f69acaeb10>"
      ]
     },
     "metadata": {},
     "output_type": "display_data"
    }
   ],
   "source": [
    "display(df_real.style.set_caption(\"Tabela de Planejamento - Valores Reais\").format(\"{:.2f}\"))"
   ]
  },
  {
   "cell_type": "code",
   "execution_count": null,
   "id": "66c63303-9afe-4e08-847e-219e8ff73b36",
   "metadata": {},
   "outputs": [],
   "source": []
  }
 ],
 "metadata": {
  "kernelspec": {
   "display_name": "Python 3 (ipykernel)",
   "language": "python",
   "name": "python3"
  },
  "language_info": {
   "codemirror_mode": {
    "name": "ipython",
    "version": 3
   },
   "file_extension": ".py",
   "mimetype": "text/x-python",
   "name": "python",
   "nbconvert_exporter": "python",
   "pygments_lexer": "ipython3",
   "version": "3.13.2"
  }
 },
 "nbformat": 4,
 "nbformat_minor": 5
}
